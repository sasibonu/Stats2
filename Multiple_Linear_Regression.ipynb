{
 "cells": [
  {
   "cell_type": "markdown",
   "id": "1e4af1f1-5b4b-4d53-94e0-496f7b261b5a",
   "metadata": {},
   "source": [
    "# Homework 3: Multiple Linear Regression\n",
    "***\n",
    "\n",
    "**Name**: Sasi Jyothirmai Bonu\n",
    "\n",
    "***\n",
    "\n",
    "This assignment is due on Gradescope by **Friday March 1 at 5:59PM**. If you submit the assignment  by this deadline, you will receive 5 bonus points. If you need a little extra time, you may submit your work by **Monday March 4 at 5:59PM**. Your solutions to theoretical questions should be done in Markdown directly below the associated question.  Your solutions to computational questions should include any specified R code and results as well as written commentary on your conclusions.  Remember that you are encouraged to discuss the problems with your classmates, but **you must write all code and solutions on your own**.\n",
    "\n",
    "**NOTES**: \n",
    "\n",
    "- There are 3 total questions on this assignment. \n",
    "- If you're not familiar with typesetting math directly into Markdown then by all means, do your work on paper first and then typeset it later.  Remember that there is a [reference guide](https://math.meta.stackexchange.com/questions/5020/mathjax-basic-tutorial-and-quick-reference) linked here. **All** of your written commentary, justifications and mathematical work should be in Markdown.\n",
    "- Because you can technically evaluate notebook cells in a non-linear order, it's a good idea to do Kernel $\\rightarrow$ Restart & Run All as a check before submitting your solutions.  That way if we need to run your code you will know that it will work as expected. \n",
    "- It is **bad form** to make your reader interpret numerical output from your code.  If a question asks you to compute some value from the data you should show your code output **AND** write a summary of the results in Markdown directly below your code. \n",
    "- This probably goes without saying, but... For any question that asks you to calculate something, you **must show all work and justify your answers to receive credit**. Sparse or nonexistent work will receive sparse or nonexistent credit. \n",
    "\n",
    "\n",
    "\n",
    "---"
   ]
  },
  {
   "cell_type": "markdown",
   "id": "36e0f012-7a45-4954-adda-93a65c258b1d",
   "metadata": {},
   "source": [
    "---\n",
    "\n",
    "\n",
    "### Problem 1 - Analysis of Regression Coefficients (15 points)"
   ]
  },
  {
   "cell_type": "markdown",
   "id": "39999614-b101-497b-a76b-7d05c7bd8710",
   "metadata": {},
   "source": [
    "**Part A:**  In class, we analyzed regression with an intercept, $\\beta_0$. In some circumstances, we may have theoretical reasons to suggest that the intercept term is zero. As such, some have proposed to not estimate $\\beta_0$, and instead, use the one-predictor linear model: $Y_i = \\beta_1 x_i + \\epsilon_i$. \n",
    "\n",
    "Find the least squares estimator of $\\beta_1$."
   ]
  },
  {
   "cell_type": "markdown",
   "id": "45defc97-2bd6-4ac3-a306-4e20214ca160",
   "metadata": {},
   "source": [
    "Minimizing the sum of squared residuals:\n",
    "\n",
    "$$  S = \\sum_{i=1}^{n} (Y_i - \\hat{Y}_i)^2 $$\n",
    "\n",
    "Since there is no intercept, $ ( \\hat{Y}_i = \\beta_1 x_i ) $.\n",
    "\n",
    "So,\n",
    "\n",
    "$$  S = \\sum_{i=1}^{n} (Y_i - \\beta_1 x_i)^2  $$\n",
    "\n",
    "To find the minimum, take the derivative of $ S $ with respect to $ \\beta_1 $ which should be equal to zero:\n",
    "\n",
    "$$  \\frac{dS}{d\\beta_1} = 0  $$\n",
    "\n",
    "\n",
    "$$  \\frac{d}{d\\beta_1} \\left( \\sum_{i=1}^{n} (Y_i^2 - 2\\beta_1 x_i Y_i + \\beta_1^2 x_i^2) \\right) = 0  $$\n",
    "\n",
    "$$  \\sum_{i=1}^{n} (-2x_i Y_i + 2\\beta_1 x_i^2) = 0  $$\n",
    "\n",
    "$$  -2 \\sum_{i=1}^{n} x_i Y_i + 2\\beta_1 \\sum_{i=1}^{n} x_i^2 = 0  $$\n",
    "\n",
    "For $ ( \\beta_1 ) $:\n",
    "\n",
    "$$  \\beta_1 \\sum_{i=1}^{n} x_i^2 = \\sum_{i=1}^{n} x_i Y_i  $$\n",
    "\n",
    "$$  \\beta_1 = \\frac{\\sum_{i=1}^{n} x_i Y_i}{\\sum_{i=1}^{n} x_i^2}  $$\n",
    "\n",
    "Hence, the least squares estimator of $ \\beta_1 $ without an intercept is:\n",
    "\n",
    "$$  \\hat{\\beta}_1 = \\frac{\\sum_{i=1}^{n} x_i Y_i}{\\sum_{i=1}^{n} x_i^2}  $$"
   ]
  },
  {
   "cell_type": "markdown",
   "id": "80e23029-b646-4ece-bee5-1063ec8019d4",
   "metadata": {},
   "source": [
    "**Part B:** Show that the residuals of this model fit do not sum necessarily sum to zero. You can use a simulation to show this, if you would like."
   ]
  },
  {
   "cell_type": "code",
   "execution_count": 25,
   "id": "c831855f-bb97-4f64-8f13-014dc6e450a4",
   "metadata": {
    "vscode": {
     "languageId": "r"
    }
   },
   "outputs": [
    {
     "name": "stdout",
     "output_type": "stream",
     "text": [
      "[1] \"Sum of residuals: 6.3201529331411\"\n"
     ]
    }
   ],
   "source": [
    "set.seed(7)\n",
    "n <- 100 \n",
    "beta1 <- 2  \n",
    "x <- rnorm(n) \n",
    "e <- rnorm(n, sd = 0.5)  \n",
    "Y <- beta1 * x + e\n",
    "\n",
    "lr <- lm(Y ~ x - 1)\n",
    "\n",
    "res <- resid(lr)\n",
    "\n",
    "sum_residuals <- sum(res)\n",
    "print(paste(\"Sum of residuals:\", sum_residuals))"
   ]
  },
  {
   "cell_type": "markdown",
   "id": "8db57096",
   "metadata": {},
   "source": [
    "The sum of the residuals is 6.320 which is not 0."
   ]
  },
  {
   "cell_type": "markdown",
   "id": "19194e77-26b6-4427-9306-915219e26456",
   "metadata": {},
   "source": [
    "**Part C:** Suppose that, for $i = 1,...,n$, the pairs $(x_i, y_i)$ are generated according to a simple linear regression model \n",
    "\n",
    "$$Y_i = \\beta_0 + \\beta_1x_i + \\varepsilon_i,$$\n",
    "\n",
    "where $x_i$ are fixed constants and $\\varepsilon_i \\overset{iid}{\\sim} N(0,\\sigma^2)$. Then, imagine reparameterizing the model as\n",
    "\n",
    "$$Y_i = \\beta^*_0 + \\beta^*_1\\left(\\frac{x_i- \\bar{x}}{sd(x)}\\right) + \\varepsilon_i,$$\n",
    "\n",
    "where $sd(x) = \\frac{1}{n-1}\\sum(x_i - \\bar{x})^2$.\n",
    "\n",
    "Let $\\widehat\\beta_j$ be the least squares estimator of $\\beta_j$, and $\\hat\\beta^*_j$ be the least squares estimator of $\\beta^*_j$ for $j=0,1$.\n",
    "\n",
    "Show that $\\widehat\\beta^*_1 \\ne \\widehat\\beta_1$.**\n",
    "\n",
    "HINT: For regression with one predictor, $\\displaystyle \\widehat\\beta_1 = \\frac{\\sum^n_{i=1}\\left( x_i - \\bar{x}\\right)\\left(y_i - \\bar{y} \\right)}{\\sum^n_{i=1}\\left(x_i - \\bar{x}\\right)^2}$."
   ]
  },
  {
   "cell_type": "markdown",
   "id": "2ade83d1-1f7b-46d7-8b66-19d92d74fabb",
   "metadata": {},
   "source": [
    "To show that $ \\hat{\\beta}^*_1 \\neq \\hat{\\beta}_1 $, calculate both estimators.\n",
    "\n",
    "First, let's calculate $ \\hat{\\beta}_1 $, the least squares estimator of $ \\beta_1 $ in the original model:\n",
    "\n",
    "$ \\hat{\\beta}_1 = \\frac{\\sum_{i=1}^{n} (x_i - \\bar{x})(y_i - \\bar{y})}{\\sum_{i=1}^{n} (x_i - \\bar{x})^2} $\n",
    "\n",
    "Now, let's calculate $ \\hat{\\beta}^*_1 $, the least squares estimator of $ \\beta^*_1 $ in the reparameterized model:\n",
    "\n",
    "$ \\hat{\\beta}^*_1 = \\frac{\\sum_{i=1}^{n} \\left(x_i - \\bar{x}\\right)\\left(y_i - \\bar{y} \\right)}{\\sum_{i=1}^{n} \\left(\\frac{x_i - \\bar{x}}{sd(x)}\\right)^2} $\n",
    "\n",
    "In the reparameterized model, $ \\frac{x_i - \\bar{x}}{sd(x)} $ is used instead of $ x_i - \\bar{x} $. This means that the least squares estimator in the reparameterized model scales the predictor variable by its standard deviation.\n",
    "\n",
    "To show that $ \\hat{\\beta}^*_1 \\neq \\hat{\\beta}_1 $, simplify\n",
    "\n",
    "$\n",
    "\\sum^n_{i=1}\\left(\\frac{x_i - \\bar{x}}{sd(x)}\\right) = \\frac{1}{sd(x)}\\sum^n_{i=1}(x_i - \\bar{x}) \n",
    "$\n",
    "\n",
    "${\\sum^n_{i=1}\\left(\\frac{x_i - \\bar{x}}{sd(x)}\\right)^2}= \\frac{1}{sd(x)^2}\\sum^n_{i=1}(x_i - \\bar{x})^2$\n",
    "\n",
    "Hence, \n",
    "\n",
    "$\n",
    "\\hat\\beta^*1 = {sd(x)}\\frac{\\sum^n{i=1}\\left( x_i - \\bar{x}\\right)\\left(y_i - \\bar{y} \\right)}{\\sum^n_{i=1}(x_i - \\bar{x})^2}\n",
    "$\n",
    "\n",
    "which is  $ \\hat\\beta^*_1 = {sd(x)}\\widehat\\beta_1 $\n",
    "\n",
    "Hence, $\\hat\\beta^*_1 \\ne \\hat\\beta_1$"
   ]
  },
  {
   "cell_type": "markdown",
   "id": "790d2bb6-b333-43bc-b4cc-65b69e1a248a",
   "metadata": {},
   "source": [
    "**Part D:** Show that, in general, $\\widehat\\beta^*_0 \\ne \\widehat\\beta_0$, and find $\\widehat\\beta^*_0$ in terms of $Y_i$. In what particular case is $\\widehat\\beta^*_0 = \\widehat\\beta_0$?**\n",
    "\n",
    "HINT: For SLR, $\\widehat\\beta_0 = \\bar{y} - \\widehat\\beta_1 \\bar{x}$."
   ]
  },
  {
   "cell_type": "markdown",
   "id": "fbbe55b3-fe4c-4259-930b-1d05d8ed3380",
   "metadata": {},
   "source": [
    "\n",
    "Reparameterized model is\n",
    "\n",
    "$\\hat Y_i =\\hat \\beta_0^* + \\hat \\beta_1^*(\\frac{x_i-\\overline{x}}{sd(x)}) + \\varepsilon_i$  and $SSE = Σ_{i=1}^n (Y_i - \\hat{Y_i})^2$\n",
    "\n",
    "Hence,\n",
    "\n",
    "$Σ_{i=1}^n (Y_i - (\\hatβ_0^* + \\hatβ_1^*(\\frac{x_i-\\overline{x}}{sd(x)})))^2$  \n",
    "\n",
    "To find $\\hat\\beta_0^*$, minimise SSE w.r.t. $\\hat\\beta_0^*$.\n",
    "\n",
    "Take the derivative and set it to 0,\n",
    "\n",
    " $\\frac{∂SSE}{∂\\hat\\beta_0^*}=0$  \n",
    "\n",
    " By chain rule,\n",
    "\n",
    "$2Σ_{i=1}^n (Y_i - (\\hatβ_0^* + \\hatβ_1^*(\\frac{x_i-\\overline{x}}{sd(x)})))(-1) = 0$  \n",
    "\n",
    "$Σ_{i=1}^nY_i - \\hat\\beta_0^*Σ_{i=1}^n - \\hat\\beta_1^*Σ_{i=1}^n\\ (\\frac{x_i-\\overline{x}}{sd(x)}) = 0$ \n",
    "\n",
    "Since  $Σ_{i=1}^nY_i$ is the mean, and adding $\\hat\\beta_0^*$ n times is $n\\hat\\beta_0^*$\n",
    "\n",
    "$n \\overline Y - n\\hat\\beta_0^* - \\hat\\beta_1^*Σ_{i=1}^n\\ (\\frac{x_i-\\overline{x}}{sd(x)}) = 0$  \n",
    "\n",
    "$n \\overline Y - n\\hat\\beta_0^* - \\frac{\\hat\\beta_1^*}{sd(x)}[Σ_{i=1}^nx_i - Σ_{i=1}^n \\overline x] = 0$   \n",
    "\n",
    "Similarly,\n",
    "\n",
    "$n \\overline Y - n\\hat\\beta_0^* - \\frac{\\hat\\beta_1^*}{sd(x)}[ {n\\overline x} - {n \\overline x}] = 0$  \n",
    "\n",
    "$ \\hatβ_0^* = \\overline Y $  \n",
    "\n",
    "For the original model, \n",
    "\n",
    "$\\hat\\beta_0 = \\overline Y - \\hat\\beta_1 \\overline x$  \n",
    "\n",
    "By comparing both, \n",
    "\n",
    "$\\hat \\beta_0^* \\ne \\hat \\beta_0$, unless mean= $0$\n",
    "\n"
   ]
  },
  {
   "cell_type": "markdown",
   "id": "a4a4e07e-2a49-48b1-8731-89b183a0585b",
   "metadata": {},
   "source": [
    "**Part E:** Why might the reparameterized model be beneficial?"
   ]
  },
  {
   "cell_type": "markdown",
   "id": "0552dc05-37ff-45fe-9fe7-a0307c483d0b",
   "metadata": {},
   "source": [
    "Reparameterized model might be beneficial for several reasons such as:\n",
    "\n",
    "1. Reparameterized model can enhance interpretability by making coefficients comparable.\n",
    "2. It can also improve model stability by ensuring reliable estimates.\n",
    "3. It will also reduce non-identifiability and multicollinearity. "
   ]
  },
  {
   "cell_type": "markdown",
   "id": "1482f3ad-4528-4df4-a759-496bfbf22d6e",
   "metadata": {},
   "source": [
    "**Part F:** Run a simulation to confirm your result in parts 1(c) - 1(d). Let's do this in parts. In the cell directly below:**\n",
    "\n",
    "- Set `n = 50`, $\\boldsymbol\\beta = $ `beta = c(1, 3.5)`.\n",
    "- Simulate $n$ predictor values ($x$) randomly from $N(3,1)$. Store those values in a variable `x`. \n",
    "- Simulate $n$ random error terms from $N(0,2)$. Store them in the variable `e`.\n",
    "- Calculate the response ($y$) according to `y = b0 + b1 x + e`\n",
    "- Fit a simple linear regression model to the data using the `lm()` function. Store the `lm()` object in a variable `l` and the coefficients of that model in a variable `b1 = coef(l)`."
   ]
  },
  {
   "cell_type": "code",
   "execution_count": 26,
   "id": "e0c30c25-ba9b-4f41-bb12-097e03a57d7c",
   "metadata": {
    "vscode": {
     "languageId": "r"
    }
   },
   "outputs": [
    {
     "name": "stdout",
     "output_type": "stream",
     "text": [
      "(Intercept)           x \n",
      "   1.662087    3.319458 \n"
     ]
    }
   ],
   "source": [
    "set.seed(7)\n",
    "n <- 50\n",
    "beta <- c(1, 3.5)\n",
    "\n",
    "x <- rnorm(n, mean = 3, sd = 1)\n",
    "e <- rnorm(n, mean = 0, sd = 2)\n",
    "\n",
    "y <- beta[1] + beta[2] * x + e\n",
    "\n",
    "l <- lm(y ~ x)\n",
    "b1 <- coef(l)\n",
    "\n",
    "print(b1)\n"
   ]
  },
  {
   "cell_type": "markdown",
   "id": "ed024f35",
   "metadata": {},
   "source": [
    "The coefficients of the model are 1.662087(intercept) and 3.319458 (x-coefficient)."
   ]
  },
  {
   "cell_type": "markdown",
   "id": "47eb3865-a21f-4833-ab40-e3f04b728e5f",
   "metadata": {},
   "source": [
    "**Part G:**\n",
    "\n",
    "- Center and scale the predictor values and store those values in a variable `z`.\n",
    "- Fit a simple linear regression model to the new data, $(z_i, y_i)$, using the `lm()` function. Store the `lm()` object in a variable `l2` and the coefficients of that model in a variable `b2 = coef(l2)` (`b2` should be a vector of length $2$).\n",
    "- Describe the differences between `b` and `b2`."
   ]
  },
  {
   "cell_type": "code",
   "execution_count": 27,
   "id": "8311ead9-ca75-4373-b018-1652c113e334",
   "metadata": {
    "vscode": {
     "languageId": "r"
    }
   },
   "outputs": [
    {
     "name": "stdout",
     "output_type": "stream",
     "text": [
      "(Intercept)           z \n",
      "  12.412853    3.350154 \n",
      "[1] \"Difference between b1 and b2:\"\n",
      " (Intercept)            x \n",
      "-10.75076519  -0.03069553 \n"
     ]
    }
   ],
   "source": [
    "z <- scale(x, center = TRUE, scale = TRUE)\n",
    "\n",
    "l2 <- lm(y ~ z)\n",
    "b2 <- coef(l2)\n",
    "\n",
    "print(b2)\n",
    "\n",
    "print(\"Difference between b1 and b2:\")\n",
    "print(b1 - b2)\n"
   ]
  },
  {
   "cell_type": "markdown",
   "id": "29644946",
   "metadata": {},
   "source": [
    "The coefficients of the model are 12.412853 (intercept) and 3.350154 (x-coefficient). Hence the difference is -10.75076519 (intercept) and -0.03069553  (x-coefficient).\n"
   ]
  },
  {
   "cell_type": "markdown",
   "id": "30c6e901-fe60-495d-a043-a063a6402955",
   "metadata": {},
   "source": [
    "---\n",
    "\n",
    "\n",
    "### Problem 2 - Polynomial Regression via Multiple Linear Regression (15 points)"
   ]
  },
  {
   "cell_type": "markdown",
   "id": "3b9d047d-b560-4ee3-a5e1-4bed74409fb3",
   "metadata": {},
   "source": [
    "It's not too difficult to believe that some relationships between features and the response are nonlinear. Consider the following example, where the single feature $x$ and the response $y$ have a quadratic relationship of the form \n",
    "\n",
    "$$\n",
    "Y = \\frac{1}{4} - X + X^2 + \\epsilon \n",
    "$$\n",
    "\n",
    "**Part A:** Write code that samples $n=30$ data points from the true model, fits the SLR model, and plots it against the data. It should be clear from both the picture and the $R^2$-value that the SLR model is a very poor fit of the data. "
   ]
  },
  {
   "cell_type": "code",
   "execution_count": 28,
   "id": "83683e29-1880-4e34-af0f-d558e5ac757e",
   "metadata": {
    "vscode": {
     "languageId": "r"
    }
   },
   "outputs": [
    {
     "name": "stdout",
     "output_type": "stream",
     "text": [
      "[1] 0.4860086\n"
     ]
    },
    {
     "data": {
      "image/png": "[encoded data removed]",
      "text/plain": [
       "Plot with title “Simple Linear Regression Model”"
      ]
     },
     "metadata": {
      "image/png": {
       "height": 420,
       "width": 420
      }
     },
     "output_type": "display_data"
    }
   ],
   "source": [
    "set.seed(7)\n",
    "\n",
    "n <- 30\n",
    "x <- seq(-2, 2, length.out = n)\n",
    "\n",
    "y <- 1/4 - x + x^2 + rnorm(n, mean = 0, sd = 0.5)\n",
    "\n",
    "slr <- lm(y ~ x)\n",
    "\n",
    "r_square <- summary(slr)$r.squared\n",
    "\n",
    "print(r_square)\n",
    "\n",
    "plot(x, y, main = \"Simple Linear Regression Model\", xlab = \"x\", ylab = \"y\")\n",
    "abline(slr, col = \"red\")\n",
    "\n"
   ]
  },
  {
   "cell_type": "markdown",
   "id": "7dffe96f",
   "metadata": {},
   "source": [
    "The r squared is 0.4860086, which is a clear indication that it's not a good fit. It can also be seen in the plot above that the mnodel doesn't fit the data at all."
   ]
  },
  {
   "cell_type": "markdown",
   "id": "a9f39047-f237-40f6-9dc9-a6ea622af60a",
   "metadata": {},
   "source": [
    "**Part B**: We can fit a **polynomial** model to the single-feature data be thinking of the polynomial features as features in a multiple linear regression model.  If we make the association  \n",
    "\n",
    "$$\n",
    "x_1 = x \\quad \\textrm{and} \\quad x_2 = x^2 \n",
    "$$\n",
    "\n",
    "then we can fit a multiple linear regression of the form \n",
    "\n",
    "$$\n",
    "\\hat{y} = \\hat{\\beta}_0 + \\hat{\\beta}_1 x_1 + \\hat{\\beta}_2 x_2 \n",
    "$$\n",
    "\n",
    "Fit this model and print the regression coefficients to the screen. "
   ]
  },
  {
   "cell_type": "code",
   "execution_count": 29,
   "id": "b7ed5dc7-922e-47df-a754-5147d8aea833",
   "metadata": {
    "vscode": {
     "languageId": "r"
    }
   },
   "outputs": [
    {
     "name": "stdout",
     "output_type": "stream",
     "text": [
      "(Intercept)           x          x2 \n",
      "  0.6351671  -0.9977644   0.8685643 \n"
     ]
    }
   ],
   "source": [
    "x2 <- x^2\n",
    "\n",
    "poly <- lm(y ~ x + x2)\n",
    "\n",
    "print(coef(poly))\n"
   ]
  },
  {
   "cell_type": "markdown",
   "id": "c8861a26",
   "metadata": {},
   "source": [
    "The coefficients of the polynomial fit are 0.6351671 (intercept), -0.9977644 (x-coefficient), and 0.8685643 (x2-coefficient)."
   ]
  },
  {
   "cell_type": "markdown",
   "id": "e56093c2-1011-4e52-ae29-6f2f1393f959",
   "metadata": {},
   "source": [
    "**Part C**: Write down the estimated MLR model in terms of the features $x_1$ and $x_2$ as well as the interpretation of the associated polynomial model in terms of the single feature $x$. Does this model seem close to the true model that the data was generated from?  "
   ]
  },
  {
   "cell_type": "markdown",
   "id": "e68b15ab-6904-42bb-95ca-7136046844e2",
   "metadata": {
    "vscode": {
     "languageId": "r"
    }
   },
   "source": [
    "The estimated multiple linear regression (MLR) model in terms of the features $x_1$ and $x_2$ is:\n",
    "\n",
    "$ \\hat{y} = \\hat{\\beta}_0 + \\hat{\\beta}_1 x_1 + \\hat{\\beta}_2 x_2 $\n",
    "\n",
    "Substituting $x_1 = x$ and $x_2 = x^2$, we get:\n",
    "\n",
    "$\\hat{y} = \\hat{\\beta}_0 + \\hat{\\beta}_1 x + \\hat{\\beta}_2 x^2$\n",
    "\n",
    "This represents a polynomial regression model of degree 2.\n",
    "\n",
    "The interpretation of the associated polynomial model in terms of the single feature $x$ is that it captures both linear and quadratic relationships between $x$ and $y$. \n",
    "\n",
    "We may compare the coefficients of the estimated MLR model to the coefficients of the genuine model to evaluate if the model appears to be close to the true model from which the data was created. Similar coefficients indicate that the model is doing a good job of capturing the underlying relationship in the data.\n",
    "\n",
    "Since the true model is\n",
    "\n",
    "$$\n",
    "Y = \\frac{1}{4} - X + X^2 + \\epsilon \n",
    "$$\n",
    "\n",
    "For the fitted model,\n",
    "\n",
    "$\\beta_0 = 0.6351671, \\beta_1 = -0.9977644, \\beta_2 = 0.8685643$\n",
    "\n",
    "For the true model,\n",
    "\n",
    "$\\beta_0 = 0.25, \\beta_1 = -1, \\beta_2 = 1$\n",
    "\n",
    "Since the coefficients are pretty close, it can be determined that it's a good fit.\n"
   ]
  },
  {
   "cell_type": "markdown",
   "id": "bbc7308b-a478-4625-8e0c-f82bfe6ee935",
   "metadata": {},
   "source": [
    "**Part D**: Plot the obtained polynomial regression model against the data.  Comment on the fit."
   ]
  },
  {
   "cell_type": "code",
   "execution_count": 30,
   "id": "c0c8e9fb-09e9-4924-9d65-8a32e5158e81",
   "metadata": {
    "vscode": {
     "languageId": "r"
    }
   },
   "outputs": [
    {
     "data": {
      "image/png": "[encoded data removed]",
      "text/plain": [
       "Plot with title “Polynomial Regression Model”"
      ]
     },
     "metadata": {
      "image/png": {
       "height": 420,
       "width": 420
      }
     },
     "output_type": "display_data"
    }
   ],
   "source": [
    "x_seq <- seq(min(x), max(x), length.out = 100)\n",
    "\n",
    "y_pred <- coef(poly)[1] + coef(poly)[2] * x_seq + coef(poly)[3] * x_seq^2\n",
    "\n",
    "plot(x, y, main = \"Polynomial Regression Model\", xlab = \"x\", ylab = \"y\")\n",
    "lines(x_seq, y_pred, col = \"red\")\n"
   ]
  },
  {
   "cell_type": "markdown",
   "id": "20233505",
   "metadata": {},
   "source": [
    "This polynomial fits the data much  better than the linear regression model. This fit goes through most of the points and provides a clear view of how the data is distributed. It also doesn't overfit the data making it a good fit."
   ]
  },
  {
   "cell_type": "markdown",
   "id": "943beb13-e773-4e8b-9df6-d5edfd6d6bc0",
   "metadata": {},
   "source": [
    "**Part E:** Calculate the sum of squared errors, the total sum of squares, and the coefficient of determination for this polynomial regression model. How does the $R^2$ value compare to the linear regression of **Part B**?"
   ]
  },
  {
   "cell_type": "code",
   "execution_count": 31,
   "id": "4e7c13fd-cecb-4533-821b-b281e1bcae63",
   "metadata": {
    "vscode": {
     "languageId": "r"
    }
   },
   "outputs": [
    {
     "name": "stdout",
     "output_type": "stream",
     "text": [
      "Sum of Squared Errors (SSE) is 8.360587 \n",
      "Total Sum of Squares (SST) is 87.5862 \n",
      "Coefficient of Determination (R-squared) is 0.9045445 \n"
     ]
    }
   ],
   "source": [
    "y_hat <- predict(poly)\n",
    "\n",
    "poly_resid <- y - y_hat\n",
    "\n",
    "SSE <- sum(poly_resid^2)\n",
    "mean_y <- mean(y)\n",
    "SST <- sum((y - mean_y)^2)\n",
    "\n",
    "SSR <- SST - SSE\n",
    "\n",
    "r_squared <- SSR / SST\n",
    "\n",
    "cat(\"Sum of Squared Errors (SSE) is\", SSE, \"\\n\")\n",
    "cat(\"Total Sum of Squares (SST) is\", SST, \"\\n\")\n",
    "cat(\"Coefficient of Determination (R-squared) is\", r_squared, \"\\n\")\n"
   ]
  },
  {
   "cell_type": "markdown",
   "id": "8fd8233f",
   "metadata": {},
   "source": [
    "The Sum of Squared Errors (SSE) is 8.360587, Total Sum of Squares (SST) is 87.5862, and Coefficient of Determination (R-squared) is 0.9045445."
   ]
  },
  {
   "cell_type": "markdown",
   "id": "4602a2fd-0362-42f0-bde5-568ed1f19142",
   "metadata": {},
   "source": [
    "---\n",
    "\n",
    "### Problem 3 - Multiple Linear Regression and Model Selection (20 points)"
   ]
  },
  {
   "cell_type": "markdown",
   "id": "dcbfd9ed-5e32-4aca-83af-13c23d34321d",
   "metadata": {},
   "source": [
    "We will further examine the `Fish.csv` dataset in this problem. \n",
    "\n",
    "\"This dataset is a record of 7 common different fish species in fish market sales. With this dataset, a predictive model can be performed using machine friendly data and estimate the weight of fish can be predicted.\"\n",
    "\n",
    "**Response**:\n",
    "- Weight (in grams)\n",
    "\n",
    "**Features**:\n",
    "- Length1 (vertical length in cm)\n",
    "- Length2 (diagonal length in cm)\n",
    "- Length3 (cross length in cm)\n",
    "- Height (in cm)\n",
    "- Width (diagonal width in cm)\n",
    "\n",
    "The species name of the fish is also given. "
   ]
  },
  {
   "cell_type": "markdown",
   "id": "4527c665-391f-4464-9fc8-5f03ee034302",
   "metadata": {},
   "source": [
    "**Part A**: Read the data from the csv.  As you are reading in `Fish.csv`, drop the species column as it is non-numerical.\n",
    "\n",
    "Also, make sure to re-order the columns so that the response variable is the last column."
   ]
  },
  {
   "cell_type": "code",
   "execution_count": 32,
   "id": "46acbe97-7edb-49e0-aab9-6570d4813814",
   "metadata": {
    "vscode": {
     "languageId": "r"
    }
   },
   "outputs": [
    {
     "data": {
      "text/html": [
       "<table class=\"dataframe\">\n",
       "<caption>A data.frame: 6 × 7</caption>\n",
       "<thead>\n",
       "\t<tr><th></th><th scope=col>Species</th><th scope=col>Weight</th><th scope=col>Length1</th><th scope=col>Length2</th><th scope=col>Length3</th><th scope=col>Height</th><th scope=col>Width</th></tr>\n",
       "\t<tr><th></th><th scope=col>&lt;chr&gt;</th><th scope=col>&lt;dbl&gt;</th><th scope=col>&lt;dbl&gt;</th><th scope=col>&lt;dbl&gt;</th><th scope=col>&lt;dbl&gt;</th><th scope=col>&lt;dbl&gt;</th><th scope=col>&lt;dbl&gt;</th></tr>\n",
       "</thead>\n",
       "<tbody>\n",
       "\t<tr><th scope=row>1</th><td>Bream</td><td>242</td><td>23.2</td><td>25.4</td><td>30.0</td><td>11.5200</td><td>4.0200</td></tr>\n",
       "\t<tr><th scope=row>2</th><td>Bream</td><td>290</td><td>24.0</td><td>26.3</td><td>31.2</td><td>12.4800</td><td>4.3056</td></tr>\n",
       "\t<tr><th scope=row>3</th><td>Bream</td><td>340</td><td>23.9</td><td>26.5</td><td>31.1</td><td>12.3778</td><td>4.6961</td></tr>\n",
       "\t<tr><th scope=row>4</th><td>Bream</td><td>363</td><td>26.3</td><td>29.0</td><td>33.5</td><td>12.7300</td><td>4.4555</td></tr>\n",
       "\t<tr><th scope=row>5</th><td>Bream</td><td>430</td><td>26.5</td><td>29.0</td><td>34.0</td><td>12.4440</td><td>5.1340</td></tr>\n",
       "\t<tr><th scope=row>6</th><td>Bream</td><td>450</td><td>26.8</td><td>29.7</td><td>34.7</td><td>13.6024</td><td>4.9274</td></tr>\n",
       "</tbody>\n",
       "</table>\n"
      ],
      "text/latex": [
       "A data.frame: 6 × 7\n",
       "\\begin{tabular}{r|lllllll}\n",
       "  & Species & Weight & Length1 & Length2 & Length3 & Height & Width\\\\\n",
       "  & <chr> & <dbl> & <dbl> & <dbl> & <dbl> & <dbl> & <dbl>\\\\\n",
       "\\hline\n",
       "\t1 & Bream & 242 & 23.2 & 25.4 & 30.0 & 11.5200 & 4.0200\\\\\n",
       "\t2 & Bream & 290 & 24.0 & 26.3 & 31.2 & 12.4800 & 4.3056\\\\\n",
       "\t3 & Bream & 340 & 23.9 & 26.5 & 31.1 & 12.3778 & 4.6961\\\\\n",
       "\t4 & Bream & 363 & 26.3 & 29.0 & 33.5 & 12.7300 & 4.4555\\\\\n",
       "\t5 & Bream & 430 & 26.5 & 29.0 & 34.0 & 12.4440 & 5.1340\\\\\n",
       "\t6 & Bream & 450 & 26.8 & 29.7 & 34.7 & 13.6024 & 4.9274\\\\\n",
       "\\end{tabular}\n"
      ],
      "text/markdown": [
       "\n",
       "A data.frame: 6 × 7\n",
       "\n",
       "| <!--/--> | Species &lt;chr&gt; | Weight &lt;dbl&gt; | Length1 &lt;dbl&gt; | Length2 &lt;dbl&gt; | Length3 &lt;dbl&gt; | Height &lt;dbl&gt; | Width &lt;dbl&gt; |\n",
       "|---|---|---|---|---|---|---|---|\n",
       "| 1 | Bream | 242 | 23.2 | 25.4 | 30.0 | 11.5200 | 4.0200 |\n",
       "| 2 | Bream | 290 | 24.0 | 26.3 | 31.2 | 12.4800 | 4.3056 |\n",
       "| 3 | Bream | 340 | 23.9 | 26.5 | 31.1 | 12.3778 | 4.6961 |\n",
       "| 4 | Bream | 363 | 26.3 | 29.0 | 33.5 | 12.7300 | 4.4555 |\n",
       "| 5 | Bream | 430 | 26.5 | 29.0 | 34.0 | 12.4440 | 5.1340 |\n",
       "| 6 | Bream | 450 | 26.8 | 29.7 | 34.7 | 13.6024 | 4.9274 |\n",
       "\n"
      ],
      "text/plain": [
       "  Species Weight Length1 Length2 Length3 Height  Width \n",
       "1 Bream   242    23.2    25.4    30.0    11.5200 4.0200\n",
       "2 Bream   290    24.0    26.3    31.2    12.4800 4.3056\n",
       "3 Bream   340    23.9    26.5    31.1    12.3778 4.6961\n",
       "4 Bream   363    26.3    29.0    33.5    12.7300 4.4555\n",
       "5 Bream   430    26.5    29.0    34.0    12.4440 5.1340\n",
       "6 Bream   450    26.8    29.7    34.7    13.6024 4.9274"
      ]
     },
     "metadata": {},
     "output_type": "display_data"
    }
   ],
   "source": [
    "fishes <- read.csv('Fish.csv')  #reading the data\n",
    "head(fishes)"
   ]
  },
  {
   "cell_type": "code",
   "execution_count": 33,
   "id": "a367c147",
   "metadata": {
    "vscode": {
     "languageId": "r"
    }
   },
   "outputs": [
    {
     "data": {
      "text/html": [
       "<table class=\"dataframe\">\n",
       "<caption>A data.frame: 6 × 6</caption>\n",
       "<thead>\n",
       "\t<tr><th></th><th scope=col>Length1</th><th scope=col>Length2</th><th scope=col>Length3</th><th scope=col>Height</th><th scope=col>Width</th><th scope=col>Weight</th></tr>\n",
       "\t<tr><th></th><th scope=col>&lt;dbl&gt;</th><th scope=col>&lt;dbl&gt;</th><th scope=col>&lt;dbl&gt;</th><th scope=col>&lt;dbl&gt;</th><th scope=col>&lt;dbl&gt;</th><th scope=col>&lt;dbl&gt;</th></tr>\n",
       "</thead>\n",
       "<tbody>\n",
       "\t<tr><th scope=row>1</th><td>23.2</td><td>25.4</td><td>30.0</td><td>11.5200</td><td>4.0200</td><td>242</td></tr>\n",
       "\t<tr><th scope=row>2</th><td>24.0</td><td>26.3</td><td>31.2</td><td>12.4800</td><td>4.3056</td><td>290</td></tr>\n",
       "\t<tr><th scope=row>3</th><td>23.9</td><td>26.5</td><td>31.1</td><td>12.3778</td><td>4.6961</td><td>340</td></tr>\n",
       "\t<tr><th scope=row>4</th><td>26.3</td><td>29.0</td><td>33.5</td><td>12.7300</td><td>4.4555</td><td>363</td></tr>\n",
       "\t<tr><th scope=row>5</th><td>26.5</td><td>29.0</td><td>34.0</td><td>12.4440</td><td>5.1340</td><td>430</td></tr>\n",
       "\t<tr><th scope=row>6</th><td>26.8</td><td>29.7</td><td>34.7</td><td>13.6024</td><td>4.9274</td><td>450</td></tr>\n",
       "</tbody>\n",
       "</table>\n"
      ],
      "text/latex": [
       "A data.frame: 6 × 6\n",
       "\\begin{tabular}{r|llllll}\n",
       "  & Length1 & Length2 & Length3 & Height & Width & Weight\\\\\n",
       "  & <dbl> & <dbl> & <dbl> & <dbl> & <dbl> & <dbl>\\\\\n",
       "\\hline\n",
       "\t1 & 23.2 & 25.4 & 30.0 & 11.5200 & 4.0200 & 242\\\\\n",
       "\t2 & 24.0 & 26.3 & 31.2 & 12.4800 & 4.3056 & 290\\\\\n",
       "\t3 & 23.9 & 26.5 & 31.1 & 12.3778 & 4.6961 & 340\\\\\n",
       "\t4 & 26.3 & 29.0 & 33.5 & 12.7300 & 4.4555 & 363\\\\\n",
       "\t5 & 26.5 & 29.0 & 34.0 & 12.4440 & 5.1340 & 430\\\\\n",
       "\t6 & 26.8 & 29.7 & 34.7 & 13.6024 & 4.9274 & 450\\\\\n",
       "\\end{tabular}\n"
      ],
      "text/markdown": [
       "\n",
       "A data.frame: 6 × 6\n",
       "\n",
       "| <!--/--> | Length1 &lt;dbl&gt; | Length2 &lt;dbl&gt; | Length3 &lt;dbl&gt; | Height &lt;dbl&gt; | Width &lt;dbl&gt; | Weight &lt;dbl&gt; |\n",
       "|---|---|---|---|---|---|---|\n",
       "| 1 | 23.2 | 25.4 | 30.0 | 11.5200 | 4.0200 | 242 |\n",
       "| 2 | 24.0 | 26.3 | 31.2 | 12.4800 | 4.3056 | 290 |\n",
       "| 3 | 23.9 | 26.5 | 31.1 | 12.3778 | 4.6961 | 340 |\n",
       "| 4 | 26.3 | 29.0 | 33.5 | 12.7300 | 4.4555 | 363 |\n",
       "| 5 | 26.5 | 29.0 | 34.0 | 12.4440 | 5.1340 | 430 |\n",
       "| 6 | 26.8 | 29.7 | 34.7 | 13.6024 | 4.9274 | 450 |\n",
       "\n"
      ],
      "text/plain": [
       "  Length1 Length2 Length3 Height  Width  Weight\n",
       "1 23.2    25.4    30.0    11.5200 4.0200 242   \n",
       "2 24.0    26.3    31.2    12.4800 4.3056 290   \n",
       "3 23.9    26.5    31.1    12.3778 4.6961 340   \n",
       "4 26.3    29.0    33.5    12.7300 4.4555 363   \n",
       "5 26.5    29.0    34.0    12.4440 5.1340 430   \n",
       "6 26.8    29.7    34.7    13.6024 4.9274 450   "
      ]
     },
     "metadata": {},
     "output_type": "display_data"
    }
   ],
   "source": [
    "fishes <- subset(fishes, select = -Species) #dropping species column\n",
    "fishes <- fishes[, c(setdiff(names(fishes), \"Weight\"), \"Weight\")] #reordering\n",
    "head(fishes)"
   ]
  },
  {
   "cell_type": "markdown",
   "id": "9b076d2c-f8c8-42ee-bc6f-7b4cd931ad72",
   "metadata": {},
   "source": [
    "**Part B:** Fit a multiple linear regression model to the data.\n",
    "\n",
    "- print the regression coeficients to the screen.\n",
    "\n",
    "- Use a Markdown cell to specify the MLR model in the form: $ \\hat{y} = \\beta_0+\\beta_1 X_1 + \\beta_2 X_2 + ... + \\beta_p X_p $"
   ]
  },
  {
   "cell_type": "code",
   "execution_count": 34,
   "id": "04874a01-cdba-4d1c-b9f4-6d49e189a02c",
   "metadata": {
    "vscode": {
     "languageId": "r"
    }
   },
   "outputs": [
    {
     "data": {
      "text/plain": [
       "    Min.  1st Qu.   Median     Mean  3rd Qu.     Max. \n",
       "-499.587  -23.401    7.973  -70.336   26.841   62.355 "
      ]
     },
     "metadata": {},
     "output_type": "display_data"
    }
   ],
   "source": [
    "mlr_fishes <- lm(Weight ~ Length1 + Length2 + Length3 + Height + Width, data = fishes)\n",
    "summary(coef(mlr_fishes))\n",
    "#anova(mlr_fishes)"
   ]
  },
  {
   "cell_type": "markdown",
   "id": "ba1006ec",
   "metadata": {},
   "source": [
    "$ \\hat{y} $ is the weight.\n",
    "$ \\beta_0 $ is the intercept\n",
    "$\\beta_1 + \\beta_2 + \\beta_3 + \\beta_4 + \\beta_5 $  are the coefficients for Length1, Length2, Length3, Height, and Width.\n",
    "\n",
    "Hence the MLR model is \n",
    "\n",
    "$$ \\hat{y} = \\beta_0+\\beta_1 Length1 + \\beta_2 Length2 + \\beta_3 Length3 + \\beta_4 Height + \\beta_5 Width $$\n",
    "\n",
    "\n",
    "From the summary output, we can say that $\\beta_0 = -499.587, \\beta_1 =  62.355, \\beta_2 = -6.527, beta_3 = -29.026, \\beta_4 = 28.297,$ and $\\beta_5 = 22.473$\n",
    "\n",
    "So to explicitly write out the MLR model using the coefficients that were found,\n",
    "\n",
    "\n",
    "$$ \\hat{y} = -499.587 + 62.355 Length1  - 6.527 Length2 - 29.026 Length3 + 28.297 Height + 22.473 Width $$\n",
    "\n",
    "$$or$$\n",
    "\n",
    "$$ \\hat{y} = -499.587 + 62.355 x_1  - 6.527 x_2 - 29.026 x_3 + 28.297 x_4 + 22.473 x_5 $$\n"
   ]
  },
  {
   "cell_type": "markdown",
   "id": "d026e650-b16c-40ec-a330-d5b271ef7d25",
   "metadata": {},
   "source": [
    "**Part C**: Perform the appropriate statistical hypothesis test at the $\\alpha = 0.01$ significance level to determine if _at least one_ of the features is related to the the response $y$.  "
   ]
  },
  {
   "cell_type": "code",
   "execution_count": 35,
   "id": "42a86713-96c8-4ce7-9f05-074fd258db32",
   "metadata": {
    "vscode": {
     "languageId": "r"
    }
   },
   "outputs": [
    {
     "data": {
      "text/html": [
       "<table class=\"dataframe\">\n",
       "<caption>A anova: 6 × 5</caption>\n",
       "<thead>\n",
       "\t<tr><th></th><th scope=col>Df</th><th scope=col>Sum Sq</th><th scope=col>Mean Sq</th><th scope=col>F value</th><th scope=col>Pr(&gt;F)</th></tr>\n",
       "\t<tr><th></th><th scope=col>&lt;int&gt;</th><th scope=col>&lt;dbl&gt;</th><th scope=col>&lt;dbl&gt;</th><th scope=col>&lt;dbl&gt;</th><th scope=col>&lt;dbl&gt;</th></tr>\n",
       "</thead>\n",
       "<tbody>\n",
       "\t<tr><th scope=row>Length1</th><td>  1</td><td>16978060.28</td><td>16978060.28</td><td>1118.394999</td><td>3.074547e-72</td></tr>\n",
       "\t<tr><th scope=row>Length2</th><td>  1</td><td>  235134.38</td><td>  235134.38</td><td>  15.488996</td><td>1.256175e-04</td></tr>\n",
       "\t<tr><th scope=row>Length3</th><td>  1</td><td>   74108.89</td><td>   74108.89</td><td>   4.881772</td><td>2.862757e-02</td></tr>\n",
       "\t<tr><th scope=row>Height</th><td>  1</td><td>  619028.34</td><td>  619028.34</td><td>  40.777226</td><td>1.939159e-09</td></tr>\n",
       "\t<tr><th scope=row>Width</th><td>  1</td><td>   18474.42</td><td>   18474.42</td><td>   1.216965</td><td>2.716892e-01</td></tr>\n",
       "\t<tr><th scope=row>Residuals</th><td>153</td><td> 2322652.75</td><td>   15180.74</td><td>         NA</td><td>          NA</td></tr>\n",
       "</tbody>\n",
       "</table>\n"
      ],
      "text/latex": [
       "A anova: 6 × 5\n",
       "\\begin{tabular}{r|lllll}\n",
       "  & Df & Sum Sq & Mean Sq & F value & Pr(>F)\\\\\n",
       "  & <int> & <dbl> & <dbl> & <dbl> & <dbl>\\\\\n",
       "\\hline\n",
       "\tLength1 &   1 & 16978060.28 & 16978060.28 & 1118.394999 & 3.074547e-72\\\\\n",
       "\tLength2 &   1 &   235134.38 &   235134.38 &   15.488996 & 1.256175e-04\\\\\n",
       "\tLength3 &   1 &    74108.89 &    74108.89 &    4.881772 & 2.862757e-02\\\\\n",
       "\tHeight &   1 &   619028.34 &   619028.34 &   40.777226 & 1.939159e-09\\\\\n",
       "\tWidth &   1 &    18474.42 &    18474.42 &    1.216965 & 2.716892e-01\\\\\n",
       "\tResiduals & 153 &  2322652.75 &    15180.74 &          NA &           NA\\\\\n",
       "\\end{tabular}\n"
      ],
      "text/markdown": [
       "\n",
       "A anova: 6 × 5\n",
       "\n",
       "| <!--/--> | Df &lt;int&gt; | Sum Sq &lt;dbl&gt; | Mean Sq &lt;dbl&gt; | F value &lt;dbl&gt; | Pr(&gt;F) &lt;dbl&gt; |\n",
       "|---|---|---|---|---|---|\n",
       "| Length1 |   1 | 16978060.28 | 16978060.28 | 1118.394999 | 3.074547e-72 |\n",
       "| Length2 |   1 |   235134.38 |   235134.38 |   15.488996 | 1.256175e-04 |\n",
       "| Length3 |   1 |    74108.89 |    74108.89 |    4.881772 | 2.862757e-02 |\n",
       "| Height |   1 |   619028.34 |   619028.34 |   40.777226 | 1.939159e-09 |\n",
       "| Width |   1 |    18474.42 |    18474.42 |    1.216965 | 2.716892e-01 |\n",
       "| Residuals | 153 |  2322652.75 |    15180.74 |          NA |           NA |\n",
       "\n"
      ],
      "text/plain": [
       "          Df  Sum Sq      Mean Sq     F value     Pr(>F)      \n",
       "Length1     1 16978060.28 16978060.28 1118.394999 3.074547e-72\n",
       "Length2     1   235134.38   235134.38   15.488996 1.256175e-04\n",
       "Length3     1    74108.89    74108.89    4.881772 2.862757e-02\n",
       "Height      1   619028.34   619028.34   40.777226 1.939159e-09\n",
       "Width       1    18474.42    18474.42    1.216965 2.716892e-01\n",
       "Residuals 153  2322652.75    15180.74          NA           NA"
      ]
     },
     "metadata": {},
     "output_type": "display_data"
    }
   ],
   "source": [
    "fish_anova = anova(mlr_fishes)\n",
    "fish_anova"
   ]
  },
  {
   "cell_type": "code",
   "execution_count": 36,
   "id": "862631f6",
   "metadata": {
    "vscode": {
     "languageId": "r"
    }
   },
   "outputs": [
    {
     "name": "stdout",
     "output_type": "stream",
     "text": [
      "[1] \"Reject the null hypothesis. At least one of the features is related to the response variable.\"\n"
     ]
    }
   ],
   "source": [
    "l1 <- fish_anova$`Pr(>F)`[1]\n",
    "alp <- 0.01\n",
    "\n",
    "if (l1 < alp) {\n",
    "  print(\"Reject the null hypothesis. At least one of the features is related to the response variable.\")\n",
    "\n",
    "} else {\n",
    "  print(\"Fail to reject the null hypothesis. None of the features are related to the response variable.\")\n",
    "}\n"
   ]
  },
  {
   "cell_type": "markdown",
   "id": "b2e53ced",
   "metadata": {},
   "source": [
    "Here, we can reject the null hypothesis because at least one of the features is related to the response variable."
   ]
  },
  {
   "cell_type": "markdown",
   "id": "e9392681-08c1-42ff-a94f-710aec83dcd2",
   "metadata": {},
   "source": [
    "**Part D**: Write a function `forward_select(df, resp_str, maxk)` that takes in the DataFrame, the name of the column corresponding to the response, and the maximum number of desired features, and returns a list of feature names corresponding to the `maxk` most important features via forward selection.  At each stage in forward selection you should add the feature whose inclusion in the model would result in the lowest sum of squared errors $(SSE)$. Use your function to determine the best $k=3$ features to include in the model. Clearly indicate which feature was added in each stage. \n",
    "\n",
    "**Note**: The point of this exercise is to see if you can implement **foward_select** yourself.  You may not call any R method that explicitly performs forward selection."
   ]
  },
  {
   "cell_type": "code",
   "execution_count": 37,
   "id": "98e1ac84-9743-43dc-928a-f622ad4c60f2",
   "metadata": {
    "vscode": {
     "languageId": "r"
    }
   },
   "outputs": [
    {
     "name": "stdout",
     "output_type": "stream",
     "text": [
      "In stage 1 the feature added is Length3 \n",
      "In stage 2 the feature added is Width \n",
      "In stage 3 the feature added is Height \n"
     ]
    },
    {
     "data": {
      "text/html": [
       "<style>\n",
       ".list-inline {list-style: none; margin:0; padding: 0}\n",
       ".list-inline>li {display: inline-block}\n",
       ".list-inline>li:not(:last-child)::after {content: \"\\00b7\"; padding: 0 .5ex}\n",
       "</style>\n",
       "<ol class=list-inline><li>'Length3'</li><li>'Width'</li><li>'Height'</li></ol>\n"
      ],
      "text/latex": [
       "\\begin{enumerate*}\n",
       "\\item 'Length3'\n",
       "\\item 'Width'\n",
       "\\item 'Height'\n",
       "\\end{enumerate*}\n"
      ],
      "text/markdown": [
       "1. 'Length3'\n",
       "2. 'Width'\n",
       "3. 'Height'\n",
       "\n",
       "\n"
      ],
      "text/plain": [
       "[1] \"Length3\" \"Width\"   \"Height\" "
      ]
     },
     "metadata": {},
     "output_type": "display_data"
    }
   ],
   "source": [
    "forward_select <- function(df, resp_str, maxk) {\n",
    "  choose_feat<- c()  \n",
    "  predictors<- setdiff(names(df), resp_str)\n",
    "\n",
    "  model <- lm(as.formula(paste(resp_str, \"~ 1\")), data = df)  \n",
    "  \n",
    "  for (i in 1:maxk) {\n",
    "    unselected_features <- setdiff(predictors, choose_feat)\n",
    "    sse <- Inf\n",
    "    top_feat <- NULL\n",
    "    \n",
    "    \n",
    "    for (feature in unselected_features) {\n",
    "      input_feat <- c(choose_feat, feature)\n",
    "      model_feat <- as.formula(paste(resp_str, \"~\", paste(input_feat, collapse = \"+\")))\n",
    "      new_model <- update(model, formula = model_feat)\n",
    "\n",
    "      new_sse <- sum(residuals(new_model)^2)\n",
    "      \n",
    "      if (new_sse < sse) {\n",
    "        sse <- new_sse\n",
    "        top_feat <- feature\n",
    "      }\n",
    "    }\n",
    "    \n",
    "    \n",
    "    choose_feat <- c(choose_feat, top_feat)\n",
    "    cat(\"In stage\", i, \"the feature added is\", top_feat, \"\\n\")\n",
    "  }\n",
    "  \n",
    "  return(choose_feat)\n",
    "}\n",
    "\n",
    "select_feat <- forward_select(fishes, \"Weight\", 3)\n",
    "select_feat"
   ]
  },
  {
   "cell_type": "markdown",
   "id": "b006fe10",
   "metadata": {},
   "source": [
    "Here, a loop has been used to select as many topmost features as specified. The loop makes a linear regression model using the best features and checks for Sum of Squared Errors (SSE). The lesser the SSE, the better the feature in determing the distribution. \n",
    "\n",
    "Length3, followed by Width, and then Height, appears to be the best attribute, according to the loop's output."
   ]
  },
  {
   "cell_type": "markdown",
   "id": "fd56ec85-5f6f-4b18-b722-44e9c326702a",
   "metadata": {},
   "source": [
    "**Part E**: Write down the reduced multiple linear regression model, including estimated parameters, obtained by your forward selection process. "
   ]
  },
  {
   "cell_type": "code",
   "execution_count": 38,
   "id": "0c5c22df-f966-4e91-8126-d94644e71097",
   "metadata": {
    "vscode": {
     "languageId": "r"
    }
   },
   "outputs": [
    {
     "data": {
      "text/html": [
       "<table class=\"dataframe\">\n",
       "<caption>A matrix: 4 × 4 of type dbl</caption>\n",
       "<thead>\n",
       "\t<tr><th></th><th scope=col>Estimate</th><th scope=col>Std. Error</th><th scope=col>t value</th><th scope=col>Pr(&gt;|t|)</th></tr>\n",
       "</thead>\n",
       "<tbody>\n",
       "\t<tr><th scope=row>(Intercept)</th><td>-520.999988</td><td>29.331364</td><td>-17.762556</td><td>3.297909e-39</td></tr>\n",
       "\t<tr><th scope=row>Length3</th><td>  19.444530</td><td> 1.812478</td><td> 10.728148</td><td>1.977242e-20</td></tr>\n",
       "\t<tr><th scope=row>Width</th><td>  62.832602</td><td>14.559949</td><td>  4.315441</td><td>2.827496e-05</td></tr>\n",
       "\t<tr><th scope=row>Height</th><td>   3.853431</td><td> 3.848711</td><td>  1.001226</td><td>3.182778e-01</td></tr>\n",
       "</tbody>\n",
       "</table>\n"
      ],
      "text/latex": [
       "A matrix: 4 × 4 of type dbl\n",
       "\\begin{tabular}{r|llll}\n",
       "  & Estimate & Std. Error & t value & Pr(>\\textbar{}t\\textbar{})\\\\\n",
       "\\hline\n",
       "\t(Intercept) & -520.999988 & 29.331364 & -17.762556 & 3.297909e-39\\\\\n",
       "\tLength3 &   19.444530 &  1.812478 &  10.728148 & 1.977242e-20\\\\\n",
       "\tWidth &   62.832602 & 14.559949 &   4.315441 & 2.827496e-05\\\\\n",
       "\tHeight &    3.853431 &  3.848711 &   1.001226 & 3.182778e-01\\\\\n",
       "\\end{tabular}\n"
      ],
      "text/markdown": [
       "\n",
       "A matrix: 4 × 4 of type dbl\n",
       "\n",
       "| <!--/--> | Estimate | Std. Error | t value | Pr(&gt;|t|) |\n",
       "|---|---|---|---|---|\n",
       "| (Intercept) | -520.999988 | 29.331364 | -17.762556 | 3.297909e-39 |\n",
       "| Length3 |   19.444530 |  1.812478 |  10.728148 | 1.977242e-20 |\n",
       "| Width |   62.832602 | 14.559949 |   4.315441 | 2.827496e-05 |\n",
       "| Height |    3.853431 |  3.848711 |   1.001226 | 3.182778e-01 |\n",
       "\n"
      ],
      "text/plain": [
       "            Estimate    Std. Error t value    Pr(>|t|)    \n",
       "(Intercept) -520.999988 29.331364  -17.762556 3.297909e-39\n",
       "Length3       19.444530  1.812478   10.728148 1.977242e-20\n",
       "Width         62.832602 14.559949    4.315441 2.827496e-05\n",
       "Height         3.853431  3.848711    1.001226 3.182778e-01"
      ]
     },
     "metadata": {},
     "output_type": "display_data"
    }
   ],
   "source": [
    "reduced_mlr_model <- as.formula(paste(\"Weight ~\", paste(select_feat, collapse = \"+\")))\n",
    "reduced_model <- lm(reduced_mlr_model, data = fishes)\n",
    "summary(reduced_model)$coefficients"
   ]
  }
 ],
 "metadata": {
  "kernelspec": {
   "display_name": "R",
   "language": "R",
   "name": "ir"
  },
  "language_info": {
   "codemirror_mode": "r",
   "file_extension": ".r",
   "mimetype": "text/x-r-source",
   "name": "R",
   "pygments_lexer": "r",
   "version": "4.3.1"
  }
 },
 "nbformat": 4,
 "nbformat_minor": 5
}
